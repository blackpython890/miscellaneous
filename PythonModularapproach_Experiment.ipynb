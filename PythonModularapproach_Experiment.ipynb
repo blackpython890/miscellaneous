{
  "nbformat": 4,
  "nbformat_minor": 0,
  "metadata": {
    "colab": {
      "name": "PythonModularapproach.ipynb",
      "provenance": [],
      "collapsed_sections": [],
      "authorship_tag": "ABX9TyOclrLc+UWjg34HdDF0y8Gp",
      "include_colab_link": true
    },
    "kernelspec": {
      "name": "python3",
      "display_name": "Python 3"
    },
    "accelerator": "GPU",
    "widgets": {
      "application/vnd.jupyter.widget-state+json": {
        "618343690d7a44fe85167a18cc0ae887": {
          "model_module": "@jupyter-widgets/controls",
          "model_name": "HBoxModel",
          "state": {
            "_view_name": "HBoxView",
            "_dom_classes": [],
            "_model_name": "HBoxModel",
            "_view_module": "@jupyter-widgets/controls",
            "_model_module_version": "1.5.0",
            "_view_count": null,
            "_view_module_version": "1.5.0",
            "box_style": "",
            "layout": "IPY_MODEL_193ae8062ecb4244b1d915ef9ec99006",
            "_model_module": "@jupyter-widgets/controls",
            "children": [
              "IPY_MODEL_b7070664fd594164ab7e0e3fab690157",
              "IPY_MODEL_64875c6a8c74484baf4fd5a4c03d0a13"
            ]
          }
        },
        "193ae8062ecb4244b1d915ef9ec99006": {
          "model_module": "@jupyter-widgets/base",
          "model_name": "LayoutModel",
          "state": {
            "_view_name": "LayoutView",
            "grid_template_rows": null,
            "right": null,
            "justify_content": null,
            "_view_module": "@jupyter-widgets/base",
            "overflow": null,
            "_model_module_version": "1.2.0",
            "_view_count": null,
            "flex_flow": null,
            "width": null,
            "min_width": null,
            "border": null,
            "align_items": null,
            "bottom": null,
            "_model_module": "@jupyter-widgets/base",
            "top": null,
            "grid_column": null,
            "overflow_y": null,
            "overflow_x": null,
            "grid_auto_flow": null,
            "grid_area": null,
            "grid_template_columns": null,
            "flex": null,
            "_model_name": "LayoutModel",
            "justify_items": null,
            "grid_row": null,
            "max_height": null,
            "align_content": null,
            "visibility": null,
            "align_self": null,
            "height": null,
            "min_height": null,
            "padding": null,
            "grid_auto_rows": null,
            "grid_gap": null,
            "max_width": null,
            "order": null,
            "_view_module_version": "1.2.0",
            "grid_template_areas": null,
            "object_position": null,
            "object_fit": null,
            "grid_auto_columns": null,
            "margin": null,
            "display": null,
            "left": null
          }
        },
        "b7070664fd594164ab7e0e3fab690157": {
          "model_module": "@jupyter-widgets/controls",
          "model_name": "FloatProgressModel",
          "state": {
            "_view_name": "ProgressView",
            "style": "IPY_MODEL_b5ca9715ce524ac1932fc960468cddb5",
            "_dom_classes": [],
            "description": "",
            "_model_name": "FloatProgressModel",
            "bar_style": "success",
            "max": 1,
            "_view_module": "@jupyter-widgets/controls",
            "_model_module_version": "1.5.0",
            "value": 1,
            "_view_count": null,
            "_view_module_version": "1.5.0",
            "orientation": "horizontal",
            "min": 0,
            "description_tooltip": null,
            "_model_module": "@jupyter-widgets/controls",
            "layout": "IPY_MODEL_88b275ad41cc453ca8fd2274f1e9d438"
          }
        },
        "64875c6a8c74484baf4fd5a4c03d0a13": {
          "model_module": "@jupyter-widgets/controls",
          "model_name": "HTMLModel",
          "state": {
            "_view_name": "HTMLView",
            "style": "IPY_MODEL_ab6ec94ce1f84235b1e9b9a33c8d8a2a",
            "_dom_classes": [],
            "description": "",
            "_model_name": "HTMLModel",
            "placeholder": "​",
            "_view_module": "@jupyter-widgets/controls",
            "_model_module_version": "1.5.0",
            "value": " 170500096/? [00:08&lt;00:00, 21286388.71it/s]",
            "_view_count": null,
            "_view_module_version": "1.5.0",
            "description_tooltip": null,
            "_model_module": "@jupyter-widgets/controls",
            "layout": "IPY_MODEL_18dd29914da840b5a4ebe8133d4edfb3"
          }
        },
        "b5ca9715ce524ac1932fc960468cddb5": {
          "model_module": "@jupyter-widgets/controls",
          "model_name": "ProgressStyleModel",
          "state": {
            "_view_name": "StyleView",
            "_model_name": "ProgressStyleModel",
            "description_width": "initial",
            "_view_module": "@jupyter-widgets/base",
            "_model_module_version": "1.5.0",
            "_view_count": null,
            "_view_module_version": "1.2.0",
            "bar_color": null,
            "_model_module": "@jupyter-widgets/controls"
          }
        },
        "88b275ad41cc453ca8fd2274f1e9d438": {
          "model_module": "@jupyter-widgets/base",
          "model_name": "LayoutModel",
          "state": {
            "_view_name": "LayoutView",
            "grid_template_rows": null,
            "right": null,
            "justify_content": null,
            "_view_module": "@jupyter-widgets/base",
            "overflow": null,
            "_model_module_version": "1.2.0",
            "_view_count": null,
            "flex_flow": null,
            "width": null,
            "min_width": null,
            "border": null,
            "align_items": null,
            "bottom": null,
            "_model_module": "@jupyter-widgets/base",
            "top": null,
            "grid_column": null,
            "overflow_y": null,
            "overflow_x": null,
            "grid_auto_flow": null,
            "grid_area": null,
            "grid_template_columns": null,
            "flex": null,
            "_model_name": "LayoutModel",
            "justify_items": null,
            "grid_row": null,
            "max_height": null,
            "align_content": null,
            "visibility": null,
            "align_self": null,
            "height": null,
            "min_height": null,
            "padding": null,
            "grid_auto_rows": null,
            "grid_gap": null,
            "max_width": null,
            "order": null,
            "_view_module_version": "1.2.0",
            "grid_template_areas": null,
            "object_position": null,
            "object_fit": null,
            "grid_auto_columns": null,
            "margin": null,
            "display": null,
            "left": null
          }
        },
        "ab6ec94ce1f84235b1e9b9a33c8d8a2a": {
          "model_module": "@jupyter-widgets/controls",
          "model_name": "DescriptionStyleModel",
          "state": {
            "_view_name": "StyleView",
            "_model_name": "DescriptionStyleModel",
            "description_width": "",
            "_view_module": "@jupyter-widgets/base",
            "_model_module_version": "1.5.0",
            "_view_count": null,
            "_view_module_version": "1.2.0",
            "_model_module": "@jupyter-widgets/controls"
          }
        },
        "18dd29914da840b5a4ebe8133d4edfb3": {
          "model_module": "@jupyter-widgets/base",
          "model_name": "LayoutModel",
          "state": {
            "_view_name": "LayoutView",
            "grid_template_rows": null,
            "right": null,
            "justify_content": null,
            "_view_module": "@jupyter-widgets/base",
            "overflow": null,
            "_model_module_version": "1.2.0",
            "_view_count": null,
            "flex_flow": null,
            "width": null,
            "min_width": null,
            "border": null,
            "align_items": null,
            "bottom": null,
            "_model_module": "@jupyter-widgets/base",
            "top": null,
            "grid_column": null,
            "overflow_y": null,
            "overflow_x": null,
            "grid_auto_flow": null,
            "grid_area": null,
            "grid_template_columns": null,
            "flex": null,
            "_model_name": "LayoutModel",
            "justify_items": null,
            "grid_row": null,
            "max_height": null,
            "align_content": null,
            "visibility": null,
            "align_self": null,
            "height": null,
            "min_height": null,
            "padding": null,
            "grid_auto_rows": null,
            "grid_gap": null,
            "max_width": null,
            "order": null,
            "_view_module_version": "1.2.0",
            "grid_template_areas": null,
            "object_position": null,
            "object_fit": null,
            "grid_auto_columns": null,
            "margin": null,
            "display": null,
            "left": null
          }
        }
      }
    }
  },
  "cells": [
    {
      "cell_type": "markdown",
      "metadata": {
        "id": "view-in-github",
        "colab_type": "text"
      },
      "source": [
        "<a href=\"https://colab.research.google.com/github/jagatabhay/miscellaneous/blob/master/PythonModularapproach_Experiment.ipynb\" target=\"_parent\"><img src=\"https://colab.research.google.com/assets/colab-badge.svg\" alt=\"Open In Colab\"/></a>"
      ]
    },
    {
      "cell_type": "code",
      "metadata": {
        "id": "X-7xEipx9KfN",
        "colab_type": "code",
        "colab": {}
      },
      "source": [
        "import torch\n",
        "import torch.nn as nn\n",
        "import torch.nn.functional as F\n",
        "import torchvision\n",
        "from albumentations import Compose, Normalize, HorizontalFlip, VerticalFlip, Resize,Rotate , Cutout\n",
        "from albumentations.pytorch import ToTensor\n",
        "import numpy as np\n",
        "import imgaug.augmenters as iaa\n",
        "import torch.optim as optim\n",
        "import time\n",
        "import matplotlib.pyplot as plt"
      ],
      "execution_count": 0,
      "outputs": []
    },
    {
      "cell_type": "code",
      "metadata": {
        "id": "f-st0FvGqM5V",
        "colab_type": "code",
        "outputId": "90cfa0dc-719f-408c-8bb4-658a34757239",
        "colab": {
          "base_uri": "https://localhost:8080/",
          "height": 146
        }
      },
      "source": [
        "!git clone https://github.com/jagatabhay/TSAI.git"
      ],
      "execution_count": 2,
      "outputs": [
        {
          "output_type": "stream",
          "text": [
            "Cloning into 'TSAI'...\n",
            "remote: Enumerating objects: 8, done.\u001b[K\n",
            "remote: Counting objects:  12% (1/8)\u001b[K\rremote: Counting objects:  25% (2/8)\u001b[K\rremote: Counting objects:  37% (3/8)\u001b[K\rremote: Counting objects:  50% (4/8)\u001b[K\rremote: Counting objects:  62% (5/8)\u001b[K\rremote: Counting objects:  75% (6/8)\u001b[K\rremote: Counting objects:  87% (7/8)\u001b[K\rremote: Counting objects: 100% (8/8)\u001b[K\rremote: Counting objects: 100% (8/8), done.\u001b[K\n",
            "remote: Compressing objects:  12% (1/8)\u001b[K\rremote: Compressing objects:  25% (2/8)\u001b[K\rremote: Compressing objects:  37% (3/8)\u001b[K\rremote: Compressing objects:  50% (4/8)\u001b[K\rremote: Compressing objects:  62% (5/8)\u001b[K\rremote: Compressing objects:  75% (6/8)\u001b[K\rremote: Compressing objects:  87% (7/8)\u001b[K\rremote: Compressing objects: 100% (8/8)\u001b[K\rremote: Compressing objects: 100% (8/8), done.\u001b[K\n",
            "Receiving objects:   0% (1/363)   \rReceiving objects:   1% (4/363)   \rReceiving objects:   2% (8/363)   \rReceiving objects:   3% (11/363)   \rReceiving objects:   4% (15/363)   \rReceiving objects:   5% (19/363)   \rReceiving objects:   6% (22/363)   \rReceiving objects:   7% (26/363)   \rReceiving objects:   8% (30/363)   \rReceiving objects:   9% (33/363)   \rReceiving objects:  10% (37/363)   \rReceiving objects:  11% (40/363)   \rReceiving objects:  12% (44/363)   \rReceiving objects:  13% (48/363)   \rReceiving objects:  14% (51/363)   \rReceiving objects:  15% (55/363)   \rReceiving objects:  16% (59/363)   \rReceiving objects:  17% (62/363)   \rReceiving objects:  18% (66/363)   \rReceiving objects:  19% (69/363)   \rReceiving objects:  20% (73/363)   \rReceiving objects:  21% (77/363)   \rReceiving objects:  22% (80/363)   \rReceiving objects:  23% (84/363)   \rReceiving objects:  24% (88/363)   \rReceiving objects:  25% (91/363)   \rReceiving objects:  26% (95/363)   \rReceiving objects:  27% (99/363)   \rReceiving objects:  28% (102/363)   \rReceiving objects:  29% (106/363)   \rReceiving objects:  30% (109/363)   \rReceiving objects:  31% (113/363)   \rReceiving objects:  32% (117/363)   \rReceiving objects:  33% (120/363)   \rReceiving objects:  34% (124/363)   \rReceiving objects:  35% (128/363)   \rReceiving objects:  36% (131/363)   \rReceiving objects:  37% (135/363)   \rReceiving objects:  38% (138/363)   \rReceiving objects:  39% (142/363)   \rReceiving objects:  40% (146/363)   \rReceiving objects:  41% (149/363)   \rReceiving objects:  42% (153/363)   \rReceiving objects:  43% (157/363)   \rReceiving objects:  44% (160/363)   \rReceiving objects:  45% (164/363)   \rReceiving objects:  46% (167/363)   \rReceiving objects:  47% (171/363)   \rReceiving objects:  48% (175/363)   \rReceiving objects:  49% (178/363)   \rReceiving objects:  50% (182/363)   \rReceiving objects:  51% (186/363)   \rReceiving objects:  52% (189/363)   \rReceiving objects:  53% (193/363)   \rReceiving objects:  54% (197/363)   \rReceiving objects:  55% (200/363)   \rReceiving objects:  56% (204/363)   \rReceiving objects:  57% (207/363)   \rReceiving objects:  58% (211/363)   \rReceiving objects:  59% (215/363)   \rReceiving objects:  60% (218/363)   \rReceiving objects:  61% (222/363)   \rReceiving objects:  62% (226/363)   \rReceiving objects:  63% (229/363)   \rReceiving objects:  64% (233/363)   \rReceiving objects:  65% (236/363)   \rReceiving objects:  66% (240/363)   \rReceiving objects:  67% (244/363)   \rReceiving objects:  68% (247/363)   \rReceiving objects:  69% (251/363)   \rReceiving objects:  70% (255/363)   \rReceiving objects:  71% (258/363)   \rReceiving objects:  72% (262/363)   \rReceiving objects:  73% (265/363)   \rReceiving objects:  74% (269/363)   \rReceiving objects:  75% (273/363)   \rReceiving objects:  76% (276/363)   \rReceiving objects:  77% (280/363)   \rReceiving objects:  78% (284/363)   \rReceiving objects:  79% (287/363)   \rReceiving objects:  80% (291/363)   \rReceiving objects:  81% (295/363)   \rReceiving objects:  82% (298/363)   \rReceiving objects:  83% (302/363)   \rReceiving objects:  84% (305/363)   \rReceiving objects:  85% (309/363)   \rReceiving objects:  86% (313/363)   \rReceiving objects:  87% (316/363)   \rReceiving objects:  88% (320/363)   \rReceiving objects:  89% (324/363)   \rReceiving objects:  90% (327/363)   \rremote: Total 363 (delta 3), reused 0 (delta 0), pack-reused 355\u001b[K\n",
            "Receiving objects:  91% (331/363)   \rReceiving objects:  92% (334/363)   \rReceiving objects:  93% (338/363)   \rReceiving objects:  94% (342/363)   \rReceiving objects:  95% (345/363)   \rReceiving objects:  96% (349/363)   \rReceiving objects:  97% (353/363)   \rReceiving objects:  98% (356/363)   \rReceiving objects:  99% (360/363)   \rReceiving objects: 100% (363/363)   \rReceiving objects: 100% (363/363), 2.43 MiB | 20.71 MiB/s, done.\n",
            "Resolving deltas:   0% (0/168)   \rResolving deltas:   1% (3/168)   \rResolving deltas:   2% (4/168)   \rResolving deltas:  16% (27/168)   \rResolving deltas:  38% (65/168)   \rResolving deltas:  39% (66/168)   \rResolving deltas:  54% (91/168)   \rResolving deltas:  55% (93/168)   \rResolving deltas:  57% (97/168)   \rResolving deltas:  58% (98/168)   \rResolving deltas:  60% (102/168)   \rResolving deltas:  63% (107/168)   \rResolving deltas:  65% (110/168)   \rResolving deltas:  66% (112/168)   \rResolving deltas:  67% (113/168)   \rResolving deltas:  68% (115/168)   \rResolving deltas:  69% (117/168)   \rResolving deltas:  71% (120/168)   \rResolving deltas:  72% (121/168)   \rResolving deltas:  73% (123/168)   \rResolving deltas:  74% (125/168)   \rResolving deltas:  91% (154/168)   \rResolving deltas:  92% (155/168)   \rResolving deltas:  94% (158/168)   \rResolving deltas:  95% (160/168)   \rResolving deltas: 100% (168/168)   \rResolving deltas: 100% (168/168), done.\n"
          ],
          "name": "stdout"
        }
      ]
    },
    {
      "cell_type": "code",
      "metadata": {
        "id": "1tdnIqUAqQLg",
        "colab_type": "code",
        "colab": {}
      },
      "source": [
        "from TSAI.S11 import CustomResNet"
      ],
      "execution_count": 0,
      "outputs": []
    },
    {
      "cell_type": "code",
      "metadata": {
        "id": "FHWbzxVtqUJ6",
        "colab_type": "code",
        "outputId": "37614e2a-72f7-4064-b400-c731ada54047",
        "colab": {
          "base_uri": "https://localhost:8080/",
          "height": 887
        }
      },
      "source": [
        "!pip install torchsummary\n",
        "from torchsummary import summary\n",
        "use_cuda = torch.cuda.is_available()\n",
        "device = torch.device(\"cuda\" if use_cuda else \"cpu\")\n",
        "print(device)\n",
        "model = CustomResNet.CustomResNet().to(device)\n",
        "summary(model, input_size=(3, 32, 32))"
      ],
      "execution_count": 4,
      "outputs": [
        {
          "output_type": "stream",
          "text": [
            "Requirement already satisfied: torchsummary in /usr/local/lib/python3.6/dist-packages (1.5.1)\n",
            "cuda\n",
            "----------------------------------------------------------------\n",
            "        Layer (type)               Output Shape         Param #\n",
            "================================================================\n",
            "            Conv2d-1           [-1, 64, 32, 32]           1,792\n",
            "       BatchNorm2d-2           [-1, 64, 32, 32]             128\n",
            "              ReLU-3           [-1, 64, 32, 32]               0\n",
            "            Conv2d-4          [-1, 128, 32, 32]          73,856\n",
            "         MaxPool2d-5          [-1, 128, 16, 16]               0\n",
            "       BatchNorm2d-6          [-1, 128, 16, 16]             256\n",
            "              ReLU-7          [-1, 128, 16, 16]               0\n",
            "            Conv2d-8          [-1, 128, 16, 16]         147,584\n",
            "       BatchNorm2d-9          [-1, 128, 16, 16]             256\n",
            "             ReLU-10          [-1, 128, 16, 16]               0\n",
            "           Conv2d-11          [-1, 128, 16, 16]         147,584\n",
            "      BatchNorm2d-12          [-1, 128, 16, 16]             256\n",
            "             ReLU-13          [-1, 128, 16, 16]               0\n",
            "           Conv2d-14          [-1, 256, 16, 16]         295,168\n",
            "        MaxPool2d-15            [-1, 256, 8, 8]               0\n",
            "      BatchNorm2d-16            [-1, 256, 8, 8]             512\n",
            "             ReLU-17            [-1, 256, 8, 8]               0\n",
            "           Conv2d-18            [-1, 512, 8, 8]       1,180,160\n",
            "        MaxPool2d-19            [-1, 512, 4, 4]               0\n",
            "      BatchNorm2d-20            [-1, 512, 4, 4]           1,024\n",
            "             ReLU-21            [-1, 512, 4, 4]               0\n",
            "           Conv2d-22            [-1, 512, 4, 4]       2,359,808\n",
            "      BatchNorm2d-23            [-1, 512, 4, 4]           1,024\n",
            "             ReLU-24            [-1, 512, 4, 4]               0\n",
            "           Conv2d-25            [-1, 512, 4, 4]       2,359,808\n",
            "      BatchNorm2d-26            [-1, 512, 4, 4]           1,024\n",
            "             ReLU-27            [-1, 512, 4, 4]               0\n",
            "        MaxPool2d-28            [-1, 512, 1, 1]               0\n",
            "           Linear-29                   [-1, 10]           5,130\n",
            "================================================================\n",
            "Total params: 6,575,370\n",
            "Trainable params: 6,575,370\n",
            "Non-trainable params: 0\n",
            "----------------------------------------------------------------\n",
            "Input size (MB): 0.01\n",
            "Forward/backward pass size (MB): 6.44\n",
            "Params size (MB): 25.08\n",
            "Estimated Total Size (MB): 31.54\n",
            "----------------------------------------------------------------\n"
          ],
          "name": "stdout"
        },
        {
          "output_type": "stream",
          "text": [
            "/content/TSAI/S11/CustomResNet.py:57: UserWarning: Implicit dimension choice for log_softmax has been deprecated. Change the call to include dim=X as an argument.\n",
            "  return F.log_softmax(x)\n"
          ],
          "name": "stderr"
        }
      ]
    },
    {
      "cell_type": "code",
      "metadata": {
        "id": "cPwd8O4FrIFp",
        "colab_type": "code",
        "outputId": "e7683d2f-0ce7-4903-aade-46608d1599f2",
        "colab": {
          "base_uri": "https://localhost:8080/",
          "height": 141,
          "referenced_widgets": [
            "618343690d7a44fe85167a18cc0ae887",
            "193ae8062ecb4244b1d915ef9ec99006",
            "b7070664fd594164ab7e0e3fab690157",
            "64875c6a8c74484baf4fd5a4c03d0a13",
            "b5ca9715ce524ac1932fc960468cddb5",
            "88b275ad41cc453ca8fd2274f1e9d438",
            "ab6ec94ce1f84235b1e9b9a33c8d8a2a",
            "18dd29914da840b5a4ebe8133d4edfb3"
          ]
        }
      },
      "source": [
        "from TSAI.S11 import albumentationstransform\n",
        "albumentationstransform_train_transforms = albumentationstransform.train_transforms()\n",
        "from TSAI.S11 import dataloader\n",
        "trainloader , testloader = dataloader.datasetloader(albumentationstransform_train_transforms , batchsize = 512 , numwork = 4 )\n",
        "classes = ('plane', 'car', 'bird', 'cat','deer', 'dog', 'frog', 'horse', 'ship', 'truck')"
      ],
      "execution_count": 5,
      "outputs": [
        {
          "output_type": "stream",
          "text": [
            "REQUIRED LIBRARIES LOADED...\n",
            "Downloading https://www.cs.toronto.edu/~kriz/cifar-10-python.tar.gz to ./data/cifar-10-python.tar.gz\n"
          ],
          "name": "stdout"
        },
        {
          "output_type": "display_data",
          "data": {
            "application/vnd.jupyter.widget-view+json": {
              "model_id": "618343690d7a44fe85167a18cc0ae887",
              "version_minor": 0,
              "version_major": 2
            },
            "text/plain": [
              "HBox(children=(FloatProgress(value=1.0, bar_style='info', max=1.0), HTML(value='')))"
            ]
          },
          "metadata": {
            "tags": []
          }
        },
        {
          "output_type": "stream",
          "text": [
            "Extracting ./data/cifar-10-python.tar.gz to ./data\n",
            "Files already downloaded and verified\n",
            "INFO : Trainloader and Testloader Done\n"
          ],
          "name": "stdout"
        }
      ]
    },
    {
      "cell_type": "code",
      "metadata": {
        "id": "vghDl9TIr_o1",
        "colab_type": "code",
        "outputId": "f42584b8-d604-41cb-d191-ba7486728bc3",
        "colab": {
          "base_uri": "https://localhost:8080/",
          "height": 306
        }
      },
      "source": [
        "import numpy as np\n",
        "# functions to show an image\n",
        "\n",
        "def imshow(img):\n",
        "    img = img / 2 + 0.5     # unnormalize\n",
        "    npimg = img.numpy()\n",
        "    plt.imshow(np.transpose(npimg, (1, 2, 0)))\n",
        "\n",
        "\n",
        "# get some random training images\n",
        "dataiter = next(iter(trainloader))\n",
        "images, labels = dataiter\n",
        "\n",
        "# show images\n",
        "imshow(torchvision.utils.make_grid(images))\n",
        "# print labels\n",
        "print(' '.join('%5s' % classes[labels[j]] for j in range(4)))"
      ],
      "execution_count": 6,
      "outputs": [
        {
          "output_type": "stream",
          "text": [
            "truck horse   car  deer\n"
          ],
          "name": "stdout"
        },
        {
          "output_type": "display_data",
          "data": {
            "image/png": "[encoded data removed]",
            "text/plain": [
              "<Figure size 432x288 with 1 Axes>"
            ]
          },
          "metadata": {
            "tags": [],
            "needs_background": "light"
          }
        },
        {
          "output_type": "stream",
          "text": [
            "\n"
          ],
          "name": "stdout"
        }
      ]
    },
    {
      "cell_type": "code",
      "metadata": {
        "id": "Yw8In19dsCaG",
        "colab_type": "code",
        "outputId": "48c22db2-9465-4c2c-dfe5-a2d6c7b8e63b",
        "colab": {
          "base_uri": "https://localhost:8080/",
          "height": 111
        }
      },
      "source": [
        "from TSAI.S11 import traindataset\n",
        "print(\"Devive : \", device)\n",
        "criterion = nn.CrossEntropyLoss()\n",
        "optimizer = optim.SGD(model.parameters(), lr=0.003, momentum=0.95,weight_decay = 0.01)\n",
        "scheduler = torch.optim.lr_scheduler.OneCycleLR(optimizer, max_lr=0.01,div_factor = 6 ,\n",
        "                                                cycle_momentum = True , epochs=24, steps_per_epoch = len(trainloader))\n",
        "\n",
        "traindataset.traindataset(range_ = 3 , model = model , device = device , \n",
        "                          trainloader = trainloader , optimizer = optimizer  , criterion_ = criterion ,\n",
        "                          batchsize = 512 )"
      ],
      "execution_count": 0,
      "outputs": [
        {
          "output_type": "stream",
          "text": [
            "Devive :  cuda\n"
          ],
          "name": "stdout"
        },
        {
          "output_type": "stream",
          "text": [
            "/content/TSAI/S11/CustomResNet.py:57: UserWarning: Implicit dimension choice for log_softmax has been deprecated. Change the call to include dim=X as an argument.\n",
            "  return F.log_softmax(x)\n"
          ],
          "name": "stderr"
        },
        {
          "output_type": "stream",
          "text": [
            "[1,    97] loss: 1.769\n"
          ],
          "name": "stdout"
        }
      ]
    },
    {
      "cell_type": "code",
      "metadata": {
        "id": "dRNhzQ1xtWuE",
        "colab_type": "code",
        "colab": {}
      },
      "source": [
        "from TSAI.S11 import testdataset\n",
        "testdataset.testdataset(model = model , device = device , testloader = testloader )"
      ],
      "execution_count": 0,
      "outputs": []
    },
    {
      "cell_type": "code",
      "metadata": {
        "id": "97iivT8nLluR",
        "colab_type": "code",
        "colab": {}
      },
      "source": [
        "correct = 0\n",
        "total = 0\n",
        "with torch.no_grad():\n",
        "    for data in testloader:\n",
        "        images, labels = data[0].to(device),data[1].to(device)\n",
        "        outputs = model(images)\n",
        "        _, predicted = torch.max(outputs.data, 1)\n",
        "        total += labels.size(0)\n",
        "        correct += (predicted == labels).sum().item()\n",
        "\n",
        "print('Accuracy of the network on the 10000 test images: %d %%' % (100 * correct / total))"
      ],
      "execution_count": 0,
      "outputs": []
    }
  ]
}