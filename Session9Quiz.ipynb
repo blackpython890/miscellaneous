{
  "nbformat": 4,
  "nbformat_minor": 0,
  "metadata": {
    "colab": {
      "name": "Session9Quiz.ipynb",
      "provenance": []
    },
    "kernelspec": {
      "name": "python3",
      "display_name": "Python 3"
    }
  },
  "cells": [
    {
      "cell_type": "code",
      "metadata": {
        "id": "cxrYNR8bNnRF"
      },
      "source": [
        "import random\n",
        "\n",
        "country = ['US','Russia','UK','Pakistan','India','China']\n",
        "group1 = []\n",
        "group2 = []\n",
        "\n",
        "for i in range(3):\n",
        "    temp = random.choice(country)\n",
        "    group1.append(temp)\n",
        "    country.remove(temp)\n",
        "\n",
        "\n",
        "group2 = country\n",
        "\n",
        "print('Random Selected Group1 ',group1)\n",
        "print('Random Selected Group2 ',group2)\n",
        "\n",
        "del country"
      ],
      "execution_count": null,
      "outputs": []
    },
    {
      "cell_type": "code",
      "metadata": {
        "id": "GWifxad1Yfb0"
      },
      "source": [
        "india = {'tanks':4795,'soldiers':2999500,'fighter_jets':538,'aircraft_carriers':4,'nuclear_bombs':120}\n",
        "us = {'tanks':8370,'soldiers':2205050,'fighter_jets':2085,'aircraft_carriers':80,'nuclear_bombs':6970}\n",
        "russia = {'tanks':13020,'soldiers':2900000,'fighter_jets':873,'aircraft_carriers':20,'nuclear_bombs':7300}\n",
        "uk = {'tanks':227,'soldiers':228350,'fighter_jets':133,'aircraft_carriers':56,'nuclear_bombs':215}\n",
        "china = {'tanks':6360,'soldiers':2545000,'fighter_jets':1232,'aircraft_carriers':3,'nuclear_bombs':260}\n",
        "pakistan = {'tanks':1220,'soldiers':1167500,'fighter_jets':356,'aircraft_carriers':0,'nuclear_bombs':110}\n",
        "\n",
        "print('India ',india)\n",
        "print('US ', us)\n",
        "print('Russia ',russia)\n",
        "print('UK ',uk)\n",
        "print('China ',china)\n",
        "print('Pakistan ',pakistan)"
      ],
      "execution_count": null,
      "outputs": []
    },
    {
      "cell_type": "code",
      "metadata": {
        "id": "vJ9ogHDFYqWE"
      },
      "source": [
        "class Warfare:\n",
        "    def __init__(self, tanks, soldiers, fighter_jets, aircraft_carriers, nuclear_bombs):\n",
        "        self.tanks = tanks\n",
        "        self.soldiers = soldiers\n",
        "        self.figher_jets = fighter_jets\n",
        "        self.aircraft_carriers = aircraft_carriers\n",
        "        self.nuclear_bombs = nuclear_bombs\n",
        "\n",
        "    def random_increase(self):\n",
        "        self.tanks = self.tanks*random.randrange(0.5,1.5)\n",
        "        self.soldiers = self.soldiers*random.randrange(0.5,1.5)\n",
        "        self.figher_jets = self.fighter_jets*random.randrange(0.5,1.5)\n",
        "        self.aircraft_carriers = self.aircraft_carriers*random.randrange(0.5,1.5)\n",
        "        self.nuclear_bombs = self.nuclear_bombs*random.randrange(0.5,1.5)\n",
        "\n",
        "\n",
        "    def calculation(self):\n",
        "        total_random_strength = self.tanks*100 + self.soldiers*1 + self.fighter_jets*1000 + self.aircraft_carriers*10000 + self.nuclear_bombs*10000000 \n",
        "        return total_random_strength"
      ],
      "execution_count": null,
      "outputs": []
    },
    {
      "cell_type": "code",
      "metadata": {
        "id": "tocw5Aw6jPQW"
      },
      "source": [
        "US, Russia = Warfare(**us), Warfare(**russia)"
      ],
      "execution_count": null,
      "outputs": []
    },
    {
      "cell_type": "code",
      "metadata": {
        "id": "LH7mhBQ1ipDx"
      },
      "source": [
        "def comparision():\n",
        "    while(US.calculation()>(10/100)*US.calculation() or Russia.calculation()>(10/100)*Russia.calculation()):\n",
        "        a = []\n",
        "        b = []\n",
        "        k = US.calculation()\n",
        "        s = Russia.calculation()\n",
        "        if k>s:\n",
        "            k = (25*100)/k\n",
        "            r = (50*100)/r\n",
        "            a.append('USA')\n",
        "        else:\n",
        "            r=(25*100)/r\n",
        "            k=(50*100)/k\n",
        "            b.append('Russia')\n",
        "        return a,b"
      ],
      "execution_count": null,
      "outputs": []
    },
    {
      "cell_type": "code",
      "metadata": {
        "id": "fDKpLKYm8vWM"
      },
      "source": [
        "comparision()"
      ],
      "execution_count": null,
      "outputs": []
    }
  ]
}