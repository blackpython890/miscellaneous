{
  "nbformat": 4,
  "nbformat_minor": 0,
  "metadata": {
    "colab": {
      "name": "TinyImageNet.ipynb",
      "provenance": [],
      "collapsed_sections": [],
      "include_colab_link": true
    },
    "kernelspec": {
      "name": "python3",
      "display_name": "Python 3"
    },
    "accelerator": "GPU",
    "widgets": {
      "application/vnd.jupyter.widget-state+json": {
        "9f6c2a82a11348f3905039b0f8a5b28d": {
          "model_module": "@jupyter-widgets/controls",
          "model_name": "HBoxModel",
          "state": {
            "_view_name": "HBoxView",
            "_dom_classes": [],
            "_model_name": "HBoxModel",
            "_view_module": "@jupyter-widgets/controls",
            "_model_module_version": "1.5.0",
            "_view_count": null,
            "_view_module_version": "1.5.0",
            "box_style": "",
            "layout": "IPY_MODEL_e1c75dbb407e42cdbe26e60ce8cbbada",
            "_model_module": "@jupyter-widgets/controls",
            "children": [
              "IPY_MODEL_cd4f68598e784f14aee82df13e14ddfe",
              "IPY_MODEL_606d806b36b642de8c84dc0613dd4a5f"
            ]
          }
        },
        "e1c75dbb407e42cdbe26e60ce8cbbada": {
          "model_module": "@jupyter-widgets/base",
          "model_name": "LayoutModel",
          "state": {
            "_view_name": "LayoutView",
            "grid_template_rows": null,
            "right": null,
            "justify_content": null,
            "_view_module": "@jupyter-widgets/base",
            "overflow": null,
            "_model_module_version": "1.2.0",
            "_view_count": null,
            "flex_flow": null,
            "width": null,
            "min_width": null,
            "border": null,
            "align_items": null,
            "bottom": null,
            "_model_module": "@jupyter-widgets/base",
            "top": null,
            "grid_column": null,
            "overflow_y": null,
            "overflow_x": null,
            "grid_auto_flow": null,
            "grid_area": null,
            "grid_template_columns": null,
            "flex": null,
            "_model_name": "LayoutModel",
            "justify_items": null,
            "grid_row": null,
            "max_height": null,
            "align_content": null,
            "visibility": null,
            "align_self": null,
            "height": null,
            "min_height": null,
            "padding": null,
            "grid_auto_rows": null,
            "grid_gap": null,
            "max_width": null,
            "order": null,
            "_view_module_version": "1.2.0",
            "grid_template_areas": null,
            "object_position": null,
            "object_fit": null,
            "grid_auto_columns": null,
            "margin": null,
            "display": null,
            "left": null
          }
        },
        "cd4f68598e784f14aee82df13e14ddfe": {
          "model_module": "@jupyter-widgets/controls",
          "model_name": "FloatProgressModel",
          "state": {
            "_view_name": "ProgressView",
            "style": "IPY_MODEL_837004e3530f4ddba654ba4fc1cb2807",
            "_dom_classes": [],
            "description": "100%",
            "_model_name": "FloatProgressModel",
            "bar_style": "success",
            "max": 50,
            "_view_module": "@jupyter-widgets/controls",
            "_model_module_version": "1.5.0",
            "value": 50,
            "_view_count": null,
            "_view_module_version": "1.5.0",
            "orientation": "horizontal",
            "min": 0,
            "description_tooltip": null,
            "_model_module": "@jupyter-widgets/controls",
            "layout": "IPY_MODEL_f84c9bfd57984651855b373b3566c0d0"
          }
        },
        "606d806b36b642de8c84dc0613dd4a5f": {
          "model_module": "@jupyter-widgets/controls",
          "model_name": "HTMLModel",
          "state": {
            "_view_name": "HTMLView",
            "style": "IPY_MODEL_0045e60b4952406bb6bcc6f7aa5342f6",
            "_dom_classes": [],
            "description": "",
            "_model_name": "HTMLModel",
            "placeholder": "​",
            "_view_module": "@jupyter-widgets/controls",
            "_model_module_version": "1.5.0",
            "value": " 50/50 [00:36&lt;00:00,  1.36it/s]",
            "_view_count": null,
            "_view_module_version": "1.5.0",
            "description_tooltip": null,
            "_model_module": "@jupyter-widgets/controls",
            "layout": "IPY_MODEL_c5bc8ebfb97b4dfe8352fd0427372e2c"
          }
        },
        "837004e3530f4ddba654ba4fc1cb2807": {
          "model_module": "@jupyter-widgets/controls",
          "model_name": "ProgressStyleModel",
          "state": {
            "_view_name": "StyleView",
            "_model_name": "ProgressStyleModel",
            "description_width": "initial",
            "_view_module": "@jupyter-widgets/base",
            "_model_module_version": "1.5.0",
            "_view_count": null,
            "_view_module_version": "1.2.0",
            "bar_color": null,
            "_model_module": "@jupyter-widgets/controls"
          }
        },
        "f84c9bfd57984651855b373b3566c0d0": {
          "model_module": "@jupyter-widgets/base",
          "model_name": "LayoutModel",
          "state": {
            "_view_name": "LayoutView",
            "grid_template_rows": null,
            "right": null,
            "justify_content": null,
            "_view_module": "@jupyter-widgets/base",
            "overflow": null,
            "_model_module_version": "1.2.0",
            "_view_count": null,
            "flex_flow": null,
            "width": null,
            "min_width": null,
            "border": null,
            "align_items": null,
            "bottom": null,
            "_model_module": "@jupyter-widgets/base",
            "top": null,
            "grid_column": null,
            "overflow_y": null,
            "overflow_x": null,
            "grid_auto_flow": null,
            "grid_area": null,
            "grid_template_columns": null,
            "flex": null,
            "_model_name": "LayoutModel",
            "justify_items": null,
            "grid_row": null,
            "max_height": null,
            "align_content": null,
            "visibility": null,
            "align_self": null,
            "height": null,
            "min_height": null,
            "padding": null,
            "grid_auto_rows": null,
            "grid_gap": null,
            "max_width": null,
            "order": null,
            "_view_module_version": "1.2.0",
            "grid_template_areas": null,
            "object_position": null,
            "object_fit": null,
            "grid_auto_columns": null,
            "margin": null,
            "display": null,
            "left": null
          }
        },
        "0045e60b4952406bb6bcc6f7aa5342f6": {
          "model_module": "@jupyter-widgets/controls",
          "model_name": "DescriptionStyleModel",
          "state": {
            "_view_name": "StyleView",
            "_model_name": "DescriptionStyleModel",
            "description_width": "",
            "_view_module": "@jupyter-widgets/base",
            "_model_module_version": "1.5.0",
            "_view_count": null,
            "_view_module_version": "1.2.0",
            "_model_module": "@jupyter-widgets/controls"
          }
        },
        "c5bc8ebfb97b4dfe8352fd0427372e2c": {
          "model_module": "@jupyter-widgets/base",
          "model_name": "LayoutModel",
          "state": {
            "_view_name": "LayoutView",
            "grid_template_rows": null,
            "right": null,
            "justify_content": null,
            "_view_module": "@jupyter-widgets/base",
            "overflow": null,
            "_model_module_version": "1.2.0",
            "_view_count": null,
            "flex_flow": null,
            "width": null,
            "min_width": null,
            "border": null,
            "align_items": null,
            "bottom": null,
            "_model_module": "@jupyter-widgets/base",
            "top": null,
            "grid_column": null,
            "overflow_y": null,
            "overflow_x": null,
            "grid_auto_flow": null,
            "grid_area": null,
            "grid_template_columns": null,
            "flex": null,
            "_model_name": "LayoutModel",
            "justify_items": null,
            "grid_row": null,
            "max_height": null,
            "align_content": null,
            "visibility": null,
            "align_self": null,
            "height": null,
            "min_height": null,
            "padding": null,
            "grid_auto_rows": null,
            "grid_gap": null,
            "max_width": null,
            "order": null,
            "_view_module_version": "1.2.0",
            "grid_template_areas": null,
            "object_position": null,
            "object_fit": null,
            "grid_auto_columns": null,
            "margin": null,
            "display": null,
            "left": null
          }
        }
      }
    }
  },
  "cells": [
    {
      "cell_type": "markdown",
      "metadata": {
        "id": "view-in-github",
        "colab_type": "text"
      },
      "source": [
        "<a href=\"https://colab.research.google.com/github/jagatabhay/miscellaneous/blob/master/TinyImageNet.ipynb\" target=\"_parent\"><img src=\"https://colab.research.google.com/assets/colab-badge.svg\" alt=\"Open In Colab\"/></a>"
      ]
    },
    {
      "cell_type": "code",
      "metadata": {
        "id": "NbnEjgHcaHxF",
        "colab_type": "code",
        "colab": {
          "base_uri": "https://localhost:8080/",
          "height": 331
        },
        "outputId": "de8f0520-cd33-469d-a490-1a0123d485d3"
      },
      "source": [
        "!wget cq http://cs231n.stanford.edu/tiny-imagenet-200.zip"
      ],
      "execution_count": 1,
      "outputs": [
        {
          "output_type": "stream",
          "text": [
            "--2020-06-28 13:24:27--  http://cq/\n",
            "Resolving cq (cq)... failed: Name or service not known.\n",
            "wget: unable to resolve host address ‘cq’\n",
            "--2020-06-28 13:24:27--  http://cs231n.stanford.edu/tiny-imagenet-200.zip\n",
            "Resolving cs231n.stanford.edu (cs231n.stanford.edu)... 171.64.68.10\n",
            "Connecting to cs231n.stanford.edu (cs231n.stanford.edu)|171.64.68.10|:80... connected.\n",
            "HTTP request sent, awaiting response... 200 OK\n",
            "Length: 248100043 (237M) [application/zip]\n",
            "Saving to: ‘tiny-imagenet-200.zip’\n",
            "\n",
            "tiny-imagenet-200.z 100%[===================>] 236.61M  19.8MB/s    in 15s     \n",
            "\n",
            "2020-06-28 13:24:42 (15.9 MB/s) - ‘tiny-imagenet-200.zip’ saved [248100043/248100043]\n",
            "\n",
            "FINISHED --2020-06-28 13:24:42--\n",
            "Total wall clock time: 15s\n",
            "Downloaded: 1 files, 237M in 15s (15.9 MB/s)\n"
          ],
          "name": "stdout"
        }
      ]
    },
    {
      "cell_type": "code",
      "metadata": {
        "id": "kt0Gd4zgJ7Mu",
        "colab_type": "code",
        "colab": {
          "base_uri": "https://localhost:8080/",
          "height": 146
        },
        "outputId": "b0c4b31c-d9cb-4764-9af4-cf0c637531ab"
      },
      "source": [
        "!git clone https://github.com/jagatabhay/TSAI.git"
      ],
      "execution_count": 2,
      "outputs": [
        {
          "output_type": "stream",
          "text": [
            "Cloning into 'TSAI'...\n",
            "remote: Enumerating objects: 102, done.\u001b[K\n",
            "remote: Counting objects: 100% (102/102), done.\u001b[K\n",
            "remote: Compressing objects: 100% (100/100), done.\u001b[K\n",
            "remote: Total 643 (delta 58), reused 0 (delta 0), pack-reused 541\u001b[K\n",
            "Receiving objects: 100% (643/643), 5.85 MiB | 4.20 MiB/s, done.\n",
            "Resolving deltas: 100% (353/353), done.\n"
          ],
          "name": "stdout"
        }
      ]
    },
    {
      "cell_type": "code",
      "metadata": {
        "id": "PZxZKcnMLMCc",
        "colab_type": "code",
        "colab": {
          "base_uri": "https://localhost:8080/",
          "height": 202
        },
        "outputId": "8453ba82-20c7-4a21-c05e-08d488094463"
      },
      "source": [
        "from TSAI.S12 import zipdatasets , resnet  , albumentationstransform , datasetloader \n",
        "model , device = resnet.resnet18(num_classes = 200)\n",
        "trainloader , testloader = datasetloader.datasetloader(albumentationstransform.train_transforms() , \n",
        "                                                       batchsize = 256 ,\n",
        "                                                       numwork  = 4)"
      ],
      "execution_count": 3,
      "outputs": [
        {
          "output_type": "stream",
          "text": [
            "------------- INFO : Preparing Train and Test Loader Folder ---------------- \n",
            "Train Data Transfer successfully\n",
            "Val Data Transfer successfully\n",
            "------------- INFO : Train and Test Loader Folder TinyImageNet Done ---------------- \n",
            "Device Load :  cuda\n",
            "Class Loaded Successfully \n",
            "----------- INFO : REQUIRED albumentations LIBRARIES LOADED... -----------\n",
            "-------- InFo : ResNet18 Model Activated -----------\n",
            "---------- INFO : DataSet Loader Activated ----------\n",
            " ---------------- INFO : Trainloader and Testloader Done--------------------------- \n"
          ],
          "name": "stdout"
        }
      ]
    },
    {
      "cell_type": "code",
      "metadata": {
        "id": "3AoCej5fL4uO",
        "colab_type": "code",
        "colab": {}
      },
      "source": [
        "import torch\n",
        "\n",
        "criterion = torch.nn.CrossEntropyLoss()\n",
        "optimizer = torch.optim.SGD(model.parameters(), lr = 0.001 , momentum = 0.9 )"
      ],
      "execution_count": null,
      "outputs": []
    },
    {
      "cell_type": "code",
      "metadata": {
        "id": "Sg-KFtn_PZsh",
        "colab_type": "code",
        "colab": {
          "base_uri": "https://localhost:8080/",
          "height": 388,
          "referenced_widgets": [
            "9f6c2a82a11348f3905039b0f8a5b28d",
            "e1c75dbb407e42cdbe26e60ce8cbbada",
            "cd4f68598e784f14aee82df13e14ddfe",
            "606d806b36b642de8c84dc0613dd4a5f",
            "837004e3530f4ddba654ba4fc1cb2807",
            "f84c9bfd57984651855b373b3566c0d0",
            "0045e60b4952406bb6bcc6f7aa5342f6",
            "c5bc8ebfb97b4dfe8352fd0427372e2c"
          ]
        },
        "outputId": "f4fd63d0-2e28-4d75-e31c-f3fa8aa15780"
      },
      "source": [
        "from TSAI.S12 import LRScheduler\n",
        "lrfinder = LRScheduler.LRFinder(model, optimizer , criterion , device = \"cuda\")\n",
        "lrfinder.range_test(trainloader , end_lr =  0.1 , num_iter = 50 , step_mode = \"linear\" )\n",
        "lrfinder.plot()"
      ],
      "execution_count": null,
      "outputs": [
        {
          "output_type": "stream",
          "text": [
            " LR Scheduler Loaded Successfully \n"
          ],
          "name": "stdout"
        },
        {
          "output_type": "display_data",
          "data": {
            "application/vnd.jupyter.widget-view+json": {
              "model_id": "9f6c2a82a11348f3905039b0f8a5b28d",
              "version_minor": 0,
              "version_major": 2
            },
            "text/plain": [
              "HBox(children=(FloatProgress(value=0.0, max=50.0), HTML(value='')))"
            ]
          },
          "metadata": {
            "tags": []
          }
        },
        {
          "output_type": "stream",
          "text": [
            "\n",
            "Learning rate search finished. See the graph with {finder_name}.plot()\n"
          ],
          "name": "stdout"
        },
        {
          "output_type": "display_data",
          "data": {
            "image/png": "[encoded data removed]",
            "text/plain": [
              "<Figure size 432x288 with 1 Axes>"
            ]
          },
          "metadata": {
            "tags": [],
            "needs_background": "light"
          }
        },
        {
          "output_type": "execute_result",
          "data": {
            "text/plain": [
              "<matplotlib.axes._subplots.AxesSubplot at 0x7f3513343b70>"
            ]
          },
          "metadata": {
            "tags": []
          },
          "execution_count": 5
        }
      ]
    },
    {
      "cell_type": "code",
      "metadata": {
        "id": "R9eVWsYddScI",
        "colab_type": "code",
        "colab": {}
      },
      "source": [
        "import torch\n",
        "\n",
        "criterion = torch.nn.CrossEntropyLoss()\n",
        "optimizer = torch.optim.SGD(model.parameters(), lr = 0.001 , momentum = 0.9 , weight_decay = 0.0001  )\n",
        "scheduler = torch.optim.lr_scheduler.OneCycleLR( optimizer , max_lr = 0.01 , div_factor = 10 , pct_start  = 5/24 ,\n",
        "                                                 cycle_momentum = True , epochs = 30 , steps_per_epoch = len(trainloader),\n",
        "                                                 final_div_factor = 100 , anneal_strategy = 'linear' )"
      ],
      "execution_count": 4,
      "outputs": []
    },
    {
      "cell_type": "code",
      "metadata": {
        "id": "D_wv-QA31TOT",
        "colab_type": "code",
        "colab": {
          "base_uri": "https://localhost:8080/",
          "height": 220
        },
        "outputId": "190de0e6-9c0a-405e-ee70-08c3e044ba73"
      },
      "source": [
        "from TSAI.S12 import traindataset , testdataset\n",
        "traindataset.traindataset(range_ = 10 , model = model , device = device , trainloader = trainloader , \n",
        "                                        optimizer = optimizer , criterion_ = criterion , batchsize = 256 , \n",
        "                                        scheduler_ = scheduler)"
      ],
      "execution_count": 5,
      "outputs": [
        {
          "output_type": "stream",
          "text": [
            "[1,   390] loss: 3.781\n",
            "[2,   390] loss: 2.918\n",
            "[3,   390] loss: 2.415\n",
            "[4,   390] loss: 2.077\n",
            "[5,   390] loss: 1.822\n",
            "[6,   390] loss: 1.605\n",
            "[7,   390] loss: 1.431\n",
            "[8,   390] loss: 1.269\n",
            "[9,   390] loss: 1.124\n",
            "[10,   390] loss: 1.007\n",
            "INFO : Finished Training of Dataset for one epoch\n"
          ],
          "name": "stdout"
        }
      ]
    },
    {
      "cell_type": "code",
      "metadata": {
        "id": "lE02Fikg_cm3",
        "colab_type": "code",
        "colab": {
          "base_uri": "https://localhost:8080/",
          "height": 35
        },
        "outputId": "8e0e6aeb-0ded-4069-be76-6ad3cde085f0"
      },
      "source": [
        "testdataset.testdataset(model = model , device = device , testloader = testloader )"
      ],
      "execution_count": 6,
      "outputs": [
        {
          "output_type": "stream",
          "text": [
            "Accuracy of the Network on the 10000 test images: 46 %\n"
          ],
          "name": "stdout"
        }
      ]
    },
    {
      "cell_type": "code",
      "metadata": {
        "id": "RcqxXCVshD5Z",
        "colab_type": "code",
        "colab": {
          "base_uri": "https://localhost:8080/",
          "height": 54
        },
        "outputId": "f8dd558a-64f7-4105-830f-42e10939a559"
      },
      "source": [
        "traindataset.traindataset(range_ = 10 , model = model , device = device , trainloader = trainloader , \n",
        "                                        optimizer = optimizer , criterion_ = criterion , batchsize = 256 , \n",
        "                                        scheduler_ = scheduler)"
      ],
      "execution_count": null,
      "outputs": [
        {
          "output_type": "stream",
          "text": [
            "[1,   390] loss: 0.889\n",
            "[2,   390] loss: 0.793\n"
          ],
          "name": "stdout"
        }
      ]
    },
    {
      "cell_type": "code",
      "metadata": {
        "id": "1VZDSN3_CCY6",
        "colab_type": "code",
        "colab": {}
      },
      "source": [
        "from TSAI.S12 import traindataset , testdataset\n",
        "traindataset.traindataset(range_ = 10 , model = model , device = device , trainloader = trainloader , \n",
        "                                        optimizer = optimizer , criterion_ = criterion , batchsize = 256 , \n",
        "                                        scheduler_ = scheduler)"
      ],
      "execution_count": null,
      "outputs": []
    },
    {
      "cell_type": "code",
      "metadata": {
        "id": "lLiGDXXiCT5M",
        "colab_type": "code",
        "colab": {}
      },
      "source": [
        "testdataset.testdataset(model = model , device = device , testloader = testloader )"
      ],
      "execution_count": null,
      "outputs": []
    },
    {
      "cell_type": "code",
      "metadata": {
        "id": "35IUOzSELlJd",
        "colab_type": "code",
        "colab": {}
      },
      "source": [
        "for epoch in range(10):  # loop over the dataset multiple times\n",
        "        \n",
        "        running_loss = 0.0\n",
        "        for i, data in enumerate(trainloader, 0):\n",
        "            # get the inputs\n",
        "            inputs, labels = data[0].to(device),data[1].to(device)\n",
        "            \n",
        "            # zero the parameter gradients\n",
        "            optimizer.zero_grad()\n",
        "            \n",
        "            # forward + backward + optimize\n",
        "            outputs = model(inputs)\n",
        "            loss = criterion(outputs, labels)\n",
        "            loss.backward()\n",
        "            \n",
        "            optimizer.step()\n",
        "            #scheduler_.step()\n",
        "            \n",
        "            # print statistics\n",
        "            running_loss += loss.item()\n",
        "            #minibatch = 50000//batchsize\n",
        "            if i % 100 == 99 :    # print every 2000 mini-batches\n",
        "               print('[%d, %5d] loss: %.3f' %(epoch + 1, i + 1, running_loss / 99 ))\n",
        "               running_loss = 0.0\n",
        "\n",
        "\n",
        "    \n",
        "print('INFO : Finished Training of Dataset ') "
      ],
      "execution_count": null,
      "outputs": []
    },
    {
      "cell_type": "code",
      "metadata": {
        "id": "CrQ2-5s-FdDJ",
        "colab_type": "code",
        "colab": {}
      },
      "source": [
        "import torch\n",
        "import torchvision\n",
        "import matplotlib.pyplot as plt\n",
        "import numpy as np\n",
        "\n",
        "def imshow(image):\n",
        "  if isinstance(image , torch.Tensor):\n",
        "    image = image.numpy().transpose(( 1, 2, 0 ))\n",
        "  else:\n",
        "    image = np.array(image).transpose((1 , 2, 0 ))\n",
        "\n",
        "  #UnNormalize\n",
        "  mean = np.array([0.4802, 0.4481, 0.3975])\n",
        "  std = np.array([(0.2302, 0.2265, 0.2262)])\n",
        "  image = std*image + mean\n",
        "  \n",
        "  #plot\n",
        "  fig , ax = plt.subplots(1 , 1 , figsize = (18,18) )\n",
        "  plt.imshow(image)\n",
        "  ax.axis('off')\n",
        "\n",
        "\n",
        "images , _ = next(iter(trainloader))\n",
        "out = torchvision.utils.make_grid(images , nrow = 18 )\n",
        "imshow(out) "
      ],
      "execution_count": null,
      "outputs": []
    }
  ]
}